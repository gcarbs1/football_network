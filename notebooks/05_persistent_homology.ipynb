{
 "cells": [
  {
   "cell_type": "markdown",
   "id": "cell-0",
   "metadata": {},
   "source": [
    "# **Persistent Homology on Football Passing Networks**\n",
    "\n",
    "## **Objective**\n",
    "Demonstrate how persistent homology reveals higher-order structure in football passing networks using the GUDHI library.\n",
    "\n",
    "## **Steps**\n",
    "1. Create an example passing network\n",
    "2. Build a Rips complex from shortest-path distances\n",
    "3. Compute and visualize persistent homology\n"
   ]
  },
  {
   "cell_type": "markdown",
   "id": "cell-1",
   "metadata": {},
   "source": [
    "## **1. Environment Setup**"
   ]
  },
  {
   "cell_type": "code",
   "execution_count": null,
   "id": "cell-2",
   "metadata": {},
   "outputs": [],
   "source": [
    "from pathlib import Path\n",
    "import networkx as nx\n",
    "import numpy as np\n",
    "import matplotlib.pyplot as plt\n",
    "import gudhi as gd\n",
    "import gudhi.plot as gplt\n",
    "\n",
    "plt.style.use('seaborn-v0_8')\n",
    "RANDOM_STATE = 42\n",
    "np.random.seed(RANDOM_STATE)"
   ]
  },
  {
   "cell_type": "markdown",
   "id": "cell-3",
   "metadata": {},
   "source": [
    "## **2. Create Example Passing Network**"
   ]
  },
  {
   "cell_type": "code",
   "execution_count": null,
   "id": "cell-4",
   "metadata": {},
   "outputs": [],
   "source": [
    "# generate a synthetic passing network\n",
    "G = nx.connected_watts_strogatz_graph(11, k=4, p=0.3, seed=RANDOM_STATE)\n",
    "pos = nx.spring_layout(G, seed=RANDOM_STATE)\n",
    "\n",
    "plt.figure(figsize=(4,4))\n",
    "nx.draw_networkx(G, pos=pos, node_color='skyblue', edge_color='gray', with_labels=True)\n",
    "plt.title('Synthetic Passing Network')\n",
    "plt.axis('off')\n",
    "plt.show()"
   ]
  },
  {
   "cell_type": "markdown",
   "id": "cell-5",
   "metadata": {},
   "source": [
    "## **3. Compute Persistent Homology with GUDHI**"
   ]
  },
  {
   "cell_type": "code",
   "execution_count": null,
   "id": "cell-6",
   "metadata": {},
   "outputs": [],
   "source": [
    "# compute shortest-path distance matrix\n",
    "lengths = dict(nx.all_pairs_shortest_path_length(G))\n",
    "nodes = list(G.nodes())\n",
    "n = len(nodes)\n",
    "dist_matrix = np.zeros((n, n))\n",
    "for i, u in enumerate(nodes):\n",
    "    for j, v in enumerate(nodes):\n",
    "        dist_matrix[i, j] = lengths[u][v]\n",
    "\n",
    "# build Rips complex and compute persistence\n",
    "rips = gd.RipsComplex(distance_matrix=dist_matrix)\n",
    "simplex_tree = rips.create_simplex_tree(max_dimension=2)\n",
    "diag = simplex_tree.persistence()\n",
    "\n",
    "# plot persistence diagram\n",
    "gplt.plot_persistence_diagram(diag)\n",
    "plt.show()"
   ]
  }
 ],
 "metadata": {
  "kernelspec": {
   "display_name": "Python 3",
   "language": "python",
   "name": "python3"
  },
  "language_info": {
   "name": "python",
   "version": "3.11"
  }
 },
 "nbformat": 4,
 "nbformat_minor": 5
}
